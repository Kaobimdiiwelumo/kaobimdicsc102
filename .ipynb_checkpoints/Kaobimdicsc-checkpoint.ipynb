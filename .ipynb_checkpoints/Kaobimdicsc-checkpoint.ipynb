{
 "cells": [
  {
   "cell_type": "code",
   "execution_count": 11,
   "metadata": {},
   "outputs": [],
   "source": [
    "odd = (1 , 3 , 5 , 7 , 9)\n",
    "even = (2 , 4 , 6 , 8 , 10)"
   ]
  },
  {
   "cell_type": "code",
   "execution_count": 21,
   "metadata": {},
   "outputs": [],
   "source": [
    "tab = [odd , even]"
   ]
  },
  {
   "cell_type": "code",
   "execution_count": 22,
   "metadata": {},
   "outputs": [
    {
     "data": {
      "text/plain": [
       "[(1, 3, 5, 7, 9), (2, 4, 6, 8, 10)]"
      ]
     },
     "execution_count": 22,
     "metadata": {},
     "output_type": "execute_result"
    }
   ],
   "source": [
    "tab"
   ]
  },
  {
   "cell_type": "code",
   "execution_count": 39,
   "metadata": {},
   "outputs": [
    {
     "name": "stdout",
     "output_type": "stream",
     "text": [
      "2\n",
      "3\n",
      "5\n",
      "Odds Win\n"
     ]
    }
   ],
   "source": [
    "y = int(input())\n",
    "x = int(input())\n",
    "z = x+y\n",
    "print(z)\n",
    "if z % 2 ==0:\n",
    "    print('Evens Win')\n",
    "else:\n",
    "    print('Odds Win')"
   ]
  },
  {
   "cell_type": "code",
   "execution_count": 41,
   "metadata": {},
   "outputs": [],
   "source": [
    "RD_Spend = [235463, 38474346, 893534, 30438, 40279, 473924, 594348343, 473974, 3634, 5755]\n",
    "Administration = [35232, 27237232, 3428423, 463222, 249232, 2932382, 237923, 59865, 948343, 49824]\n",
    "Marketing_Spend = [217821, 4343, 65767, 24242, 6466, 45453, 3442, 24242, 2422, 6566]\n",
    "State = [\"New York\",\"Michigan\",\"Florida\",\"Carlifornia\",\"Newark\",\"San Diego\",\"Iowa\",\"Texas\",\"Nevada\",\"Colorado\"]\n",
    "Profit = [32322, 242424, 2424242, 565765, 7878787, 78796, 464456, 546576, 466464, 557565]"
   ]
  },
  {
   "cell_type": "code",
   "execution_count": 44,
   "metadata": {},
   "outputs": [],
   "source": [
    "tab = {'rd spend':RD_Spend, 'administration':Administration, 'marketing spend':Marketing_Spend, 'State': State, 'profit':Profit}"
   ]
  },
  {
   "cell_type": "code",
   "execution_count": 43,
   "metadata": {},
   "outputs": [
    {
     "data": {
      "text/plain": [
       "{'rd spend': [235463,\n",
       "  38474346,\n",
       "  893534,\n",
       "  30438,\n",
       "  40279,\n",
       "  473924,\n",
       "  594348343,\n",
       "  473974,\n",
       "  3634,\n",
       "  5755],\n",
       " 'administration': [35232,\n",
       "  27237232,\n",
       "  3428423,\n",
       "  463222,\n",
       "  249232,\n",
       "  2932382,\n",
       "  237923,\n",
       "  59865,\n",
       "  948343,\n",
       "  49824],\n",
       " 'marketing spend': [217821,\n",
       "  4343,\n",
       "  65767,\n",
       "  24242,\n",
       "  6466,\n",
       "  45453,\n",
       "  3442,\n",
       "  24242,\n",
       "  2422,\n",
       "  6566],\n",
       " 'State': ['New York',\n",
       "  'Michigan',\n",
       "  'Florida',\n",
       "  'Carlifornia',\n",
       "  'Newark',\n",
       "  'San Diego',\n",
       "  'Iowa',\n",
       "  'Texas',\n",
       "  'Nevada',\n",
       "  'Colorado'],\n",
       " 'profit': [32322,\n",
       "  242424,\n",
       "  2424242,\n",
       "  565765,\n",
       "  7878787,\n",
       "  78796,\n",
       "  464456,\n",
       "  546576,\n",
       "  466464,\n",
       "  557565]}"
      ]
     },
     "execution_count": 43,
     "metadata": {},
     "output_type": "execute_result"
    }
   ],
   "source": [
    "tab"
   ]
  },
  {
   "cell_type": "code",
   "execution_count": 45,
   "metadata": {},
   "outputs": [],
   "source": [
    "import pandas"
   ]
  },
  {
   "cell_type": "code",
   "execution_count": 46,
   "metadata": {},
   "outputs": [
    {
     "data": {
      "text/plain": [
       "['BooleanDtype',\n",
       " 'Categorical',\n",
       " 'CategoricalDtype',\n",
       " 'CategoricalIndex',\n",
       " 'DataFrame',\n",
       " 'DateOffset',\n",
       " 'DatetimeIndex',\n",
       " 'DatetimeTZDtype',\n",
       " 'ExcelFile',\n",
       " 'ExcelWriter',\n",
       " 'Float64Index',\n",
       " 'Grouper',\n",
       " 'HDFStore',\n",
       " 'Index',\n",
       " 'IndexSlice',\n",
       " 'Int16Dtype',\n",
       " 'Int32Dtype',\n",
       " 'Int64Dtype',\n",
       " 'Int64Index',\n",
       " 'Int8Dtype',\n",
       " 'Interval',\n",
       " 'IntervalDtype',\n",
       " 'IntervalIndex',\n",
       " 'MultiIndex',\n",
       " 'NA',\n",
       " 'NaT',\n",
       " 'NamedAgg',\n",
       " 'Period',\n",
       " 'PeriodDtype',\n",
       " 'PeriodIndex',\n",
       " 'RangeIndex',\n",
       " 'Series',\n",
       " 'SparseDtype',\n",
       " 'StringDtype',\n",
       " 'Timedelta',\n",
       " 'TimedeltaIndex',\n",
       " 'Timestamp',\n",
       " 'UInt16Dtype',\n",
       " 'UInt32Dtype',\n",
       " 'UInt64Dtype',\n",
       " 'UInt64Index',\n",
       " 'UInt8Dtype',\n",
       " '__builtins__',\n",
       " '__cached__',\n",
       " '__doc__',\n",
       " '__docformat__',\n",
       " '__file__',\n",
       " '__getattr__',\n",
       " '__git_version__',\n",
       " '__loader__',\n",
       " '__name__',\n",
       " '__package__',\n",
       " '__path__',\n",
       " '__spec__',\n",
       " '__version__',\n",
       " '_config',\n",
       " '_hashtable',\n",
       " '_is_numpy_dev',\n",
       " '_lib',\n",
       " '_libs',\n",
       " '_np_version_under1p16',\n",
       " '_np_version_under1p17',\n",
       " '_np_version_under1p18',\n",
       " '_testing',\n",
       " '_tslib',\n",
       " '_typing',\n",
       " '_version',\n",
       " 'api',\n",
       " 'array',\n",
       " 'arrays',\n",
       " 'bdate_range',\n",
       " 'compat',\n",
       " 'concat',\n",
       " 'core',\n",
       " 'crosstab',\n",
       " 'cut',\n",
       " 'date_range',\n",
       " 'describe_option',\n",
       " 'errors',\n",
       " 'eval',\n",
       " 'factorize',\n",
       " 'get_dummies',\n",
       " 'get_option',\n",
       " 'infer_freq',\n",
       " 'interval_range',\n",
       " 'io',\n",
       " 'isna',\n",
       " 'isnull',\n",
       " 'json_normalize',\n",
       " 'lreshape',\n",
       " 'melt',\n",
       " 'merge',\n",
       " 'merge_asof',\n",
       " 'merge_ordered',\n",
       " 'notna',\n",
       " 'notnull',\n",
       " 'offsets',\n",
       " 'option_context',\n",
       " 'options',\n",
       " 'pandas',\n",
       " 'period_range',\n",
       " 'pivot',\n",
       " 'pivot_table',\n",
       " 'plotting',\n",
       " 'qcut',\n",
       " 'read_clipboard',\n",
       " 'read_csv',\n",
       " 'read_excel',\n",
       " 'read_feather',\n",
       " 'read_fwf',\n",
       " 'read_gbq',\n",
       " 'read_hdf',\n",
       " 'read_html',\n",
       " 'read_json',\n",
       " 'read_orc',\n",
       " 'read_parquet',\n",
       " 'read_pickle',\n",
       " 'read_sas',\n",
       " 'read_spss',\n",
       " 'read_sql',\n",
       " 'read_sql_query',\n",
       " 'read_sql_table',\n",
       " 'read_stata',\n",
       " 'read_table',\n",
       " 'reset_option',\n",
       " 'set_eng_float_format',\n",
       " 'set_option',\n",
       " 'show_versions',\n",
       " 'test',\n",
       " 'testing',\n",
       " 'timedelta_range',\n",
       " 'to_datetime',\n",
       " 'to_numeric',\n",
       " 'to_pickle',\n",
       " 'to_timedelta',\n",
       " 'tseries',\n",
       " 'unique',\n",
       " 'util',\n",
       " 'value_counts',\n",
       " 'wide_to_long']"
      ]
     },
     "execution_count": 46,
     "metadata": {},
     "output_type": "execute_result"
    }
   ],
   "source": [
    "dir(pandas)"
   ]
  },
  {
   "cell_type": "code",
   "execution_count": 47,
   "metadata": {},
   "outputs": [],
   "source": [
    "data = pandas.DataFrame(tab)"
   ]
  },
  {
   "cell_type": "code",
   "execution_count": 48,
   "metadata": {},
   "outputs": [
    {
     "data": {
      "text/html": [
       "<div>\n",
       "<style scoped>\n",
       "    .dataframe tbody tr th:only-of-type {\n",
       "        vertical-align: middle;\n",
       "    }\n",
       "\n",
       "    .dataframe tbody tr th {\n",
       "        vertical-align: top;\n",
       "    }\n",
       "\n",
       "    .dataframe thead th {\n",
       "        text-align: right;\n",
       "    }\n",
       "</style>\n",
       "<table border=\"1\" class=\"dataframe\">\n",
       "  <thead>\n",
       "    <tr style=\"text-align: right;\">\n",
       "      <th></th>\n",
       "      <th>rd spend</th>\n",
       "      <th>administration</th>\n",
       "      <th>marketing spend</th>\n",
       "      <th>State</th>\n",
       "      <th>profit</th>\n",
       "    </tr>\n",
       "  </thead>\n",
       "  <tbody>\n",
       "    <tr>\n",
       "      <th>0</th>\n",
       "      <td>235463</td>\n",
       "      <td>35232</td>\n",
       "      <td>217821</td>\n",
       "      <td>New York</td>\n",
       "      <td>32322</td>\n",
       "    </tr>\n",
       "    <tr>\n",
       "      <th>1</th>\n",
       "      <td>38474346</td>\n",
       "      <td>27237232</td>\n",
       "      <td>4343</td>\n",
       "      <td>Michigan</td>\n",
       "      <td>242424</td>\n",
       "    </tr>\n",
       "    <tr>\n",
       "      <th>2</th>\n",
       "      <td>893534</td>\n",
       "      <td>3428423</td>\n",
       "      <td>65767</td>\n",
       "      <td>Florida</td>\n",
       "      <td>2424242</td>\n",
       "    </tr>\n",
       "    <tr>\n",
       "      <th>3</th>\n",
       "      <td>30438</td>\n",
       "      <td>463222</td>\n",
       "      <td>24242</td>\n",
       "      <td>Carlifornia</td>\n",
       "      <td>565765</td>\n",
       "    </tr>\n",
       "    <tr>\n",
       "      <th>4</th>\n",
       "      <td>40279</td>\n",
       "      <td>249232</td>\n",
       "      <td>6466</td>\n",
       "      <td>Newark</td>\n",
       "      <td>7878787</td>\n",
       "    </tr>\n",
       "    <tr>\n",
       "      <th>5</th>\n",
       "      <td>473924</td>\n",
       "      <td>2932382</td>\n",
       "      <td>45453</td>\n",
       "      <td>San Diego</td>\n",
       "      <td>78796</td>\n",
       "    </tr>\n",
       "    <tr>\n",
       "      <th>6</th>\n",
       "      <td>594348343</td>\n",
       "      <td>237923</td>\n",
       "      <td>3442</td>\n",
       "      <td>Iowa</td>\n",
       "      <td>464456</td>\n",
       "    </tr>\n",
       "    <tr>\n",
       "      <th>7</th>\n",
       "      <td>473974</td>\n",
       "      <td>59865</td>\n",
       "      <td>24242</td>\n",
       "      <td>Texas</td>\n",
       "      <td>546576</td>\n",
       "    </tr>\n",
       "    <tr>\n",
       "      <th>8</th>\n",
       "      <td>3634</td>\n",
       "      <td>948343</td>\n",
       "      <td>2422</td>\n",
       "      <td>Nevada</td>\n",
       "      <td>466464</td>\n",
       "    </tr>\n",
       "    <tr>\n",
       "      <th>9</th>\n",
       "      <td>5755</td>\n",
       "      <td>49824</td>\n",
       "      <td>6566</td>\n",
       "      <td>Colorado</td>\n",
       "      <td>557565</td>\n",
       "    </tr>\n",
       "  </tbody>\n",
       "</table>\n",
       "</div>"
      ],
      "text/plain": [
       "    rd spend  administration  marketing spend        State   profit\n",
       "0     235463           35232           217821     New York    32322\n",
       "1   38474346        27237232             4343     Michigan   242424\n",
       "2     893534         3428423            65767      Florida  2424242\n",
       "3      30438          463222            24242  Carlifornia   565765\n",
       "4      40279          249232             6466       Newark  7878787\n",
       "5     473924         2932382            45453    San Diego    78796\n",
       "6  594348343          237923             3442         Iowa   464456\n",
       "7     473974           59865            24242        Texas   546576\n",
       "8       3634          948343             2422       Nevada   466464\n",
       "9       5755           49824             6566     Colorado   557565"
      ]
     },
     "execution_count": 48,
     "metadata": {},
     "output_type": "execute_result"
    }
   ],
   "source": [
    "data"
   ]
  },
  {
   "cell_type": "code",
   "execution_count": 49,
   "metadata": {},
   "outputs": [],
   "source": [
    "data.to_excel('data.xlsx')"
   ]
  },
  {
   "cell_type": "code",
   "execution_count": null,
   "metadata": {},
   "outputs": [],
   "source": [
    "data.drop()"
   ]
  },
  {
   "cell_type": "code",
   "execution_count": 50,
   "metadata": {},
   "outputs": [
    {
     "name": "stdout",
     "output_type": "stream",
     "text": [
      "23\n",
      "Need for Speed\n"
     ]
    }
   ],
   "source": [
    "x = int(input())\n",
    "if x > 30:\n",
    "    print('Formula 1')\n",
    "else:\n",
    "    print('Need for Speed')"
   ]
  },
  {
   "cell_type": "code",
   "execution_count": null,
   "metadata": {},
   "outputs": [],
   "source": []
  }
 ],
 "metadata": {
  "kernelspec": {
   "display_name": "Python 3",
   "language": "python",
   "name": "python3"
  },
  "language_info": {
   "codemirror_mode": {
    "name": "ipython",
    "version": 3
   },
   "file_extension": ".py",
   "mimetype": "text/x-python",
   "name": "python",
   "nbconvert_exporter": "python",
   "pygments_lexer": "ipython3",
   "version": "3.8.5"
  }
 },
 "nbformat": 4,
 "nbformat_minor": 4
}
