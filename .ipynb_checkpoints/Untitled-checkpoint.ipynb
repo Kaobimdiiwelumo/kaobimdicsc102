{
 "cells": [
  {
   "cell_type": "code",
   "execution_count": 11,
   "metadata": {},
   "outputs": [],
   "source": [
    "odd = (1 , 3 , 5 , 7 , 9)\n",
    "even = (2 , 4 , 6 , 8 , 10)"
   ]
  },
  {
   "cell_type": "code",
   "execution_count": 19,
   "metadata": {},
   "outputs": [
    {
     "ename": "SyntaxError",
     "evalue": "invalid syntax (<ipython-input-19-c59ef23c1e14>, line 8)",
     "output_type": "error",
     "traceback": [
      "\u001b[1;36m  File \u001b[1;32m\"<ipython-input-19-c59ef23c1e14>\"\u001b[1;36m, line \u001b[1;32m8\u001b[0m\n\u001b[1;33m    elif x + y == 5:\u001b[0m\n\u001b[1;37m    ^\u001b[0m\n\u001b[1;31mSyntaxError\u001b[0m\u001b[1;31m:\u001b[0m invalid syntax\n"
     ]
    }
   ],
   "source": [
    "y = input()\n",
    "x = input()\n",
    "range(1 , 2 , 3 , 4 , 5 , 6 , 7 , 8 , 9)\n",
    "if x + y == 1:\n",
    "    print('Odds Win')\n",
    "    elif x + y == 3:\n",
    "        print(\"Odds Win\")\n",
    "        elif x + y == 5:\n",
    "            print(\"Odds Win\")\n",
    "            elif x + y == 7:\n",
    "                print(\"Odds Win\")\n",
    "                elif x + y == 9:\n",
    "                    print(\"Odds Win\")  \n",
    "else:\n",
    "     print(\"Evens Win\") "
   ]
  },
  {
   "cell_type": "code",
   "execution_count": null,
   "metadata": {},
   "outputs": [],
   "source": []
  }
 ],
 "metadata": {
  "kernelspec": {
   "display_name": "Python 3",
   "language": "python",
   "name": "python3"
  },
  "language_info": {
   "codemirror_mode": {
    "name": "ipython",
    "version": 3
   },
   "file_extension": ".py",
   "mimetype": "text/x-python",
   "name": "python",
   "nbconvert_exporter": "python",
   "pygments_lexer": "ipython3",
   "version": "3.8.5"
  }
 },
 "nbformat": 4,
 "nbformat_minor": 4
}
